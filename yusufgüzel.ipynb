{
 "cells": [
  {
   "cell_type": "code",
   "execution_count": 82,
   "metadata": {},
   "outputs": [],
   "source": [
    "%%capture\n",
    "!pip install feature-engine\n",
    "!pip install -U imbalanced-learn"
   ]
  },
  {
   "cell_type": "code",
   "execution_count": 117,
   "metadata": {},
   "outputs": [],
   "source": [
    "import pandas as pd\n",
    "import numpy as np\n",
    "import sklearn as sk\n",
    "import imblearn as imb # you should try different methods from this library!\n",
    "from feature_engine import categorical_encoders as ce\n",
    "from feature_engine import missing_data_imputers as mdi\n",
    "from sklearn.pipeline import Pipeline # USE pipeline and LEARN\n",
    "from sklearn.preprocessing import StandardScaler\n",
    "from xgboost import XGBClassifier\n",
    "import seaborn as sns\n",
    "from sklearn.metrics import classification_report, confusion_matrix\n",
    "from catboost import CatBoostClassifier\n",
    "from sklearn.preprocessing import MinMaxScaler\n",
    "from sklearn.preprocessing import MaxAbsScaler\n",
    "import warnings\n",
    "warnings.filterwarnings(\"ignore\")"
   ]
  },
  {
   "cell_type": "code",
   "execution_count": 84,
   "metadata": {},
   "outputs": [],
   "source": [
    "submission_df   = pd.read_csv('inputs/sample_submission.csv')\n",
    "df= pd.read_csv(\"inputs/train.csv\")\n",
    "test  = pd.read_csv(\"inputs/test.csv\")"
   ]
  },
  {
   "cell_type": "code",
   "execution_count": 85,
   "metadata": {},
   "outputs": [],
   "source": [
    "#Let's take the \"Target\" column from the train and delete the 'Id' and 'Target' columns from the train.\n",
    "target = df[\"Target\"]\n",
    "df.drop([\"Id\", \"Target\"],axis=1, inplace=True)\n",
    "test.drop([\"Id\"],axis=1, inplace=True)"
   ]
  },
  {
   "cell_type": "code",
   "execution_count": 86,
   "metadata": {},
   "outputs": [
    {
     "data": {
      "text/plain": [
       "Var1      0.986286\n",
       "Var2      0.974971\n",
       "Var3      0.975000\n",
       "Var4      0.968400\n",
       "Var5      0.970229\n",
       "            ...   \n",
       "Var226    0.000000\n",
       "Var227    0.000000\n",
       "Var228    0.000000\n",
       "Var229    0.570200\n",
       "Var230    1.000000\n",
       "Length: 230, dtype: float64"
      ]
     },
     "execution_count": 86,
     "metadata": {},
     "output_type": "execute_result"
    }
   ],
   "source": [
    "miss_pct = df.isna().sum() / len(df) # Let's find the percentage of missing values for each column.\n",
    "miss_pct"
   ]
  },
  {
   "cell_type": "code",
   "execution_count": 87,
   "metadata": {},
   "outputs": [],
   "source": [
    "df = df.loc[:, miss_pct < 0.73]#then delete the columns with the missing value percentage greater than 75.\n",
    "test = test.loc[:, miss_pct < 0.73]"
   ]
  },
  {
   "cell_type": "code",
   "execution_count": 88,
   "metadata": {},
   "outputs": [],
   "source": [
    "#Lets find the numeric and nominal columns\n",
    "categorical_cols = [var for var in df.columns\n",
    "                       if df[var].dtype == 'O']\n",
    "numerical_cols = [var for var in df.columns \n",
    "                     if df[var].dtype != 'O']"
   ]
  },
  {
   "cell_type": "code",
   "execution_count": 97,
   "metadata": {},
   "outputs": [],
   "source": [
    "categorical_cols = [var for var in test.columns if df[var].dtype == 'O']\n",
    "numerical_cols = [var for var in test.columns if df[var].dtype != 'O']"
   ]
  },
  {
   "cell_type": "code",
   "execution_count": 108,
   "metadata": {},
   "outputs": [
    {
     "name": "stdout",
     "output_type": "stream",
     "text": [
      "Categorical Columns:  ['Var192', 'Var193', 'Var195', 'Var196', 'Var197', 'Var198', 'Var199', 'Var200', 'Var202', 'Var203', 'Var204', 'Var205', 'Var206', 'Var207', 'Var208', 'Var210', 'Var211', 'Var212', 'Var214', 'Var216', 'Var217', 'Var218', 'Var219', 'Var220', 'Var221', 'Var222', 'Var223', 'Var225', 'Var226', 'Var227', 'Var228', 'Var229']\n",
      "Numerical Columns:  ['Var6', 'Var7', 'Var13', 'Var21', 'Var22', 'Var24', 'Var25', 'Var28', 'Var35', 'Var38', 'Var44', 'Var57', 'Var65', 'Var72', 'Var73', 'Var74', 'Var76', 'Var78', 'Var81', 'Var83', 'Var85', 'Var94', 'Var109', 'Var112', 'Var113', 'Var119', 'Var123', 'Var125', 'Var126', 'Var132', 'Var133', 'Var134', 'Var140', 'Var143', 'Var144', 'Var149', 'Var153', 'Var160', 'Var163', 'Var173', 'Var181', 'Var189']\n"
     ]
    }
   ],
   "source": [
    "print(\"Categorical Columns: \", categorical_cols)\n",
    "print(\"Numerical Columns: \", numerical_cols)"
   ]
  },
  {
   "cell_type": "code",
   "execution_count": 109,
   "metadata": {},
   "outputs": [],
   "source": [
    "preprocess_pipeline = Pipeline([\n",
    "     # replace NA by the mean in variables below, they are numerical\n",
    "     ('numerical_col_median_imputer', mdi.MeanMedianImputer(\n",
    "            imputation_method='mean', variables = numerical_cols)),\n",
    "    \n",
    "     # replace NA by adding the most frequent value in categorical variables\n",
    "      ('categorical_col_imputer', mdi.CategoricalVariableImputer(imputation_method = 'frequent', variables = categorical_cols)),\n",
    "    \n",
    "     # reduce the cardinality of categorical columns grouping rare values into \"Rare\" value\n",
    "     (\"cardinality_reduce\", ce.RareLabelCategoricalEncoder(variables = categorical_cols)),\n",
    "    \n",
    "    # Categorical value to One-hot encoding\n",
    "    ('categorical_to_ohe', ce.OneHotCategoricalEncoder(variables = categorical_cols)),\n",
    "    \n",
    "    # Normalize features\n",
    "    ('normalizer',  StandardScaler()),\n",
    "    \n",
    "    # Logistic Regression for Classification Model\n",
    "\n",
    "    ('classifier', CatBoostClassifier(n_estimators= 1500, learning_rate = 0.01, max_depth = 5, verbose = False,))\n",
    "])"
   ]
  },
  {
   "cell_type": "code",
   "execution_count": 110,
   "metadata": {},
   "outputs": [],
   "source": [
    "cv = sk.model_selection.StratifiedKFold(n_splits=5, random_state=2)\n",
    "cross_val_scores = sk.model_selection.cross_val_score(preprocess_pipeline, df, target, cv=5, scoring='roc_auc')"
   ]
  },
  {
   "cell_type": "code",
   "execution_count": 111,
   "metadata": {},
   "outputs": [
    {
     "data": {
      "text/plain": [
       "array([0.87481941, 0.85746435, 0.86120562, 0.85153437, 0.86997063])"
      ]
     },
     "execution_count": 111,
     "metadata": {},
     "output_type": "execute_result"
    }
   ],
   "source": [
    "cross_val_scores"
   ]
  },
  {
   "cell_type": "code",
   "execution_count": 112,
   "metadata": {},
   "outputs": [
    {
     "name": "stdout",
     "output_type": "stream",
     "text": [
      "Mean of Stratified Cross Validation Score: 0.8629988748762477\n"
     ]
    }
   ],
   "source": [
    "print(\"Mean of Stratified Cross Validation Score:\", np.mean(cross_val_scores)) # This is the expected score for submission"
   ]
  },
  {
   "cell_type": "code",
   "execution_count": 113,
   "metadata": {},
   "outputs": [],
   "source": [
    "preprocess_pipeline.fit(df, target)# We are training our data science pipeline\n",
    "submission_df['Target'] = preprocess_pipeline.predict_proba(test)[:, 1] # I will take the predictions"
   ]
  },
  {
   "cell_type": "code",
   "execution_count": 125,
   "metadata": {},
   "outputs": [
    {
     "data": {
      "image/png": "[encoded data removed]",
      "text/plain": [
       "<Figure size 432x288 with 2 Axes>"
      ]
     },
     "metadata": {
      "needs_background": "light"
     },
     "output_type": "display_data"
    }
   ],
   "source": [
    "corr = df.corr()\n",
    "ax = sns.heatmap(\n",
    "    corr, \n",
    "    vmin=-1, vmax=1, center=0,\n",
    "    cmap=sns.diverging_palette(20, 220, n=200),\n",
    "    square=True\n",
    ")\n",
    "ax.set_xticklabels(\n",
    "    ax.get_xticklabels(),\n",
    "    rotation=45,\n",
    "    horizontalalignment='right'\n",
    ");"
   ]
  },
  {
   "cell_type": "code",
   "execution_count": null,
   "metadata": {},
   "outputs": [],
   "source": []
  },
  {
   "cell_type": "code",
   "execution_count": null,
   "metadata": {},
   "outputs": [],
   "source": []
  },
  {
   "cell_type": "code",
   "execution_count": null,
   "metadata": {},
   "outputs": [],
   "source": []
  },
  {
   "cell_type": "code",
   "execution_count": null,
   "metadata": {},
   "outputs": [],
   "source": []
  },
  {
   "cell_type": "code",
   "execution_count": null,
   "metadata": {},
   "outputs": [],
   "source": []
  },
  {
   "cell_type": "code",
   "execution_count": null,
   "metadata": {},
   "outputs": [],
   "source": []
  },
  {
   "cell_type": "code",
   "execution_count": 114,
   "metadata": {},
   "outputs": [
    {
     "data": {
      "text/html": [
       "<div>\n",
       "<style scoped>\n",
       "    .dataframe tbody tr th:only-of-type {\n",
       "        vertical-align: middle;\n",
       "    }\n",
       "\n",
       "    .dataframe tbody tr th {\n",
       "        vertical-align: top;\n",
       "    }\n",
       "\n",
       "    .dataframe thead th {\n",
       "        text-align: right;\n",
       "    }\n",
       "</style>\n",
       "<table border=\"1\" class=\"dataframe\">\n",
       "  <thead>\n",
       "    <tr style=\"text-align: right;\">\n",
       "      <th></th>\n",
       "      <th>Id</th>\n",
       "      <th>Target</th>\n",
       "    </tr>\n",
       "  </thead>\n",
       "  <tbody>\n",
       "    <tr>\n",
       "      <th>0</th>\n",
       "      <td>29730</td>\n",
       "      <td>0.050189</td>\n",
       "    </tr>\n",
       "    <tr>\n",
       "      <th>1</th>\n",
       "      <td>492</td>\n",
       "      <td>0.087043</td>\n",
       "    </tr>\n",
       "    <tr>\n",
       "      <th>2</th>\n",
       "      <td>10955</td>\n",
       "      <td>0.050405</td>\n",
       "    </tr>\n",
       "    <tr>\n",
       "      <th>3</th>\n",
       "      <td>3531</td>\n",
       "      <td>0.078053</td>\n",
       "    </tr>\n",
       "    <tr>\n",
       "      <th>4</th>\n",
       "      <td>41398</td>\n",
       "      <td>0.014288</td>\n",
       "    </tr>\n",
       "  </tbody>\n",
       "</table>\n",
       "</div>"
      ],
      "text/plain": [
       "      Id    Target\n",
       "0  29730  0.050189\n",
       "1    492  0.087043\n",
       "2  10955  0.050405\n",
       "3   3531  0.078053\n",
       "4  41398  0.014288"
      ]
     },
     "execution_count": 114,
     "metadata": {},
     "output_type": "execute_result"
    }
   ],
   "source": [
    "submission_df.head()"
   ]
  },
  {
   "cell_type": "code",
   "execution_count": 115,
   "metadata": {},
   "outputs": [],
   "source": [
    "submission_df.to_csv(\"yusuf_güzel_final_submission.csv\", index=False)"
   ]
  },
  {
   "cell_type": "code",
   "execution_count": null,
   "metadata": {},
   "outputs": [],
   "source": []
  },
  {
   "cell_type": "code",
   "execution_count": null,
   "metadata": {},
   "outputs": [],
   "source": []
  },
  {
   "cell_type": "code",
   "execution_count": null,
   "metadata": {},
   "outputs": [],
   "source": []
  }
 ],
 "metadata": {
  "kernelspec": {
   "display_name": "Python 3",
   "language": "python",
   "name": "python3"
  },
  "language_info": {
   "codemirror_mode": {
    "name": "ipython",
    "version": 3
   },
   "file_extension": ".py",
   "mimetype": "text/x-python",
   "name": "python",
   "nbconvert_exporter": "python",
   "pygments_lexer": "ipython3",
   "version": "3.8.3"
  }
 },
 "nbformat": 4,
 "nbformat_minor": 4
}
